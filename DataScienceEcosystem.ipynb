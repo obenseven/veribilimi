{
 "cells": [
  {
   "cell_type": "markdown",
   "id": "595917eb-0ff4-429c-b92e-d77f26b0f3b8",
   "metadata": {},
   "source": [
    "# Data Science Tools and Ecosystem"
   ]
  },
  {
   "cell_type": "markdown",
   "id": "f67b8664-6a4b-4d60-adc3-a4a9be09a94d",
   "metadata": {},
   "source": [
    "In this notebook, Data Science Tools and Ecosystem are summarized."
   ]
  },
  {
   "cell_type": "markdown",
   "id": "f1be1271-904a-44cd-b4ef-5a48fed6fa38",
   "metadata": {},
   "source": [
    "**Objectives:**\n",
    "* List popular languages for Data Science\n",
    "* List data science libraries\n",
    "* List the Data Science tools in a table"
   ]
  },
  {
   "cell_type": "markdown",
   "id": "108b0408-b46c-4373-8866-5a04def0750c",
   "metadata": {},
   "source": [
    "Some of the popular languages that Data Scientists use are:\n",
    "    1. Python\n",
    "    2. R\n",
    "    3. Javascript\n",
    "    4. Scala\n",
    "    5. SQL"
   ]
  },
  {
   "cell_type": "markdown",
   "id": "2ac69ed8-f754-45c6-a2fd-0519a05d2b06",
   "metadata": {},
   "source": [
    "Some of the commonly used libraries used by Data Scientists include:\n",
    "    1. NumPy\n",
    "    2. Pandas\n",
    "    3. Matplotlib\n",
    "    4. Seaborn\n",
    "    5. Tensorflow\n",
    "    6. Scikit-Learn"
   ]
  },
  {
   "cell_type": "markdown",
   "id": "42e877d1-cac4-414e-b97c-b74aaa0ad93a",
   "metadata": {},
   "source": [
    "|Data Science Tools|\n",
    "|------------------|\n",
    "|Apache Airflow|\n",
    "|MongoDB|\n",
    "|JupyterLab|"
   ]
  },
  {
   "cell_type": "markdown",
   "id": "fd553a1e-5598-4ff4-a875-3b38762b7a80",
   "metadata": {},
   "source": [
    "### Below are a few examples of evaluating arithmetic expressions in Python"
   ]
  },
  {
   "cell_type": "code",
   "execution_count": 1,
   "id": "39debd05-00a8-4955-90e0-35c4c13b35cc",
   "metadata": {
    "tags": []
   },
   "outputs": [
    {
     "data": {
      "text/plain": [
       "17"
      ]
     },
     "execution_count": 1,
     "metadata": {},
     "output_type": "execute_result"
    }
   ],
   "source": [
    "# This a simple arithmetic expression to mutiply then add integers\n",
    "(3*4)+5"
   ]
  },
  {
   "cell_type": "code",
   "execution_count": 3,
   "id": "865ee225-1e4b-448f-8829-02b1bec13da3",
   "metadata": {
    "tags": []
   },
   "outputs": [
    {
     "data": {
      "text/plain": [
       "3.3333333333333335"
      ]
     },
     "execution_count": 3,
     "metadata": {},
     "output_type": "execute_result"
    }
   ],
   "source": [
    "# This will convert 200 minutes to hours by diving by 60\n",
    "200/60"
   ]
  },
  {
   "cell_type": "code",
   "execution_count": 15,
   "id": "be1888b8-1b09-4580-b476-0e11d9596190",
   "metadata": {
    "tags": []
   },
   "outputs": [
    {
     "name": "stdout",
     "output_type": "stream",
     "text": [
      "200 minutes equal to the 3 hour 20 min\n"
     ]
    }
   ],
   "source": [
    "# More convenient way converting the minutes to hours\n",
    "h = 200 // 60\n",
    "m = 200 % 60\n",
    "print( \"200 minutes equal to the \" + str(h) + \" hour\" + \" \" + str(m) + \" min\")"
   ]
  },
  {
   "cell_type": "markdown",
   "id": "33e7b42e-2d90-4df8-a0d2-713d432ecfdb",
   "metadata": {},
   "source": [
    "## Author\n",
    "Oben Seven"
   ]
  }
 ],
 "metadata": {
  "kernelspec": {
   "display_name": "Python 3 (ipykernel)",
   "language": "python",
   "name": "python3"
  },
  "language_info": {
   "codemirror_mode": {
    "name": "ipython",
    "version": 3
   },
   "file_extension": ".py",
   "mimetype": "text/x-python",
   "name": "python",
   "nbconvert_exporter": "python",
   "pygments_lexer": "ipython3",
   "version": "3.11.5"
  }
 },
 "nbformat": 4,
 "nbformat_minor": 5
}
